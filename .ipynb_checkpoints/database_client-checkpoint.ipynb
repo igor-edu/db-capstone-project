{
 "cells": [
  {
   "cell_type": "code",
   "execution_count": 2,
   "id": "a8b8e536-3738-4d0c-a041-749ff0662ca9",
   "metadata": {},
   "outputs": [],
   "source": [
    "import os\n",
    "import mysql.connector as connector\n",
    "from mysql.connector import Error"
   ]
  },
  {
   "cell_type": "code",
   "execution_count": 3,
   "id": "385d0332-b109-436f-bec4-8f8ec7ba035a",
   "metadata": {},
   "outputs": [
    {
     "name": "stdout",
     "output_type": "stream",
     "text": [
      "Connected to mysql server 8.0.33\n",
      "Connected to database littlelemondb\n"
     ]
    }
   ],
   "source": [
    "try:\n",
    "    connection = connector.connect(\n",
    "        host='localhost', \n",
    "        user=os.environ.get('MYSQL_DB_USER'), \n",
    "        password=os.environ.get('MYSQL_DB_PASSWORD'), \n",
    "        database='littlelemondb')\n",
    "    if connection.is_connected():\n",
    "        print('Connected to mysql server', connection.get_server_info())\n",
    "        print('Connected to database', connection.database)\n",
    "        cursor = connection.cursor()\n",
    "except Error as e:\n",
    "    print('Error when connecting:', e.msg)"
   ]
  },
  {
   "cell_type": "code",
   "execution_count": 7,
   "id": "6bdf1ba1-1389-4fe4-8426-89c57889d402",
   "metadata": {},
   "outputs": [],
   "source": [
    "show_tables_query = 'SHOW TABLES';"
   ]
  },
  {
   "cell_type": "code",
   "execution_count": 14,
   "id": "20ebaf6c-f83e-43f5-8520-3217fa76abae",
   "metadata": {},
   "outputs": [],
   "source": [
    "cursor.execute(show_tables_query)"
   ]
  },
  {
   "cell_type": "code",
   "execution_count": 15,
   "id": "09cf8373-2e83-4116-b379-29dfd3f119f2",
   "metadata": {},
   "outputs": [],
   "source": [
    "columns = cursor.column_names\n",
    "results = cursor.fetchall();"
   ]
  },
  {
   "cell_type": "code",
   "execution_count": 16,
   "id": "1d57d0e6-ef6a-4bae-82cc-c3b0dc8ae220",
   "metadata": {},
   "outputs": [
    {
     "name": "stdout",
     "output_type": "stream",
     "text": [
      "Tables_in_littlelemondb:\n",
      "bookings\n",
      "customers\n",
      "employees\n",
      "menuitems\n",
      "orderitems\n",
      "orders\n",
      "orderstatuses\n",
      "ordersview\n"
     ]
    }
   ],
   "source": [
    "print(columns[0] + ':')\n",
    "for result in results:\n",
    "    print(result[0])"
   ]
  },
  {
   "cell_type": "code",
   "execution_count": 17,
   "id": "d1ace12c-7140-4021-9300-3c65c6e2c23d",
   "metadata": {},
   "outputs": [],
   "source": [
    "customer_promotion_query = \"\"\"\n",
    "SELECT CONCAT(Customers.FirstName, ' ', Customers.LastName) AS CustomerFullName, \n",
    "\tCustomers.Address, Customers.ContactNo, Customers.Email,\n",
    "    SUM(OrderItems.Quantity * MenuItems.Price) AS BillAmount\n",
    "FROM Customers\n",
    "INNER JOIN Bookings ON Customers.CustomerID = Bookings.CustomerID\n",
    "INNER JOIN Orders ON Bookings.BookingID = Orders.BookingID\n",
    "INNER JOIN OrderItems ON Orders.OrderID = OrderItems.OrderID\n",
    "INNER JOIN MenuItems ON OrderItems.ItemID = MenuItems.ItemID\n",
    "GROUP BY Customers.FirstName, Customers.LastName, Customers.Address, Customers.ContactNo, Customers.Email\n",
    "HAVING BillAmount > 60\n",
    "\"\"\";"
   ]
  },
  {
   "cell_type": "code",
   "execution_count": 23,
   "id": "3b78da1c-8c9e-4707-bfce-3be626a585fe",
   "metadata": {},
   "outputs": [],
   "source": [
    "cursor.execute(customer_promotion_query)"
   ]
  },
  {
   "cell_type": "code",
   "execution_count": 24,
   "id": "5ccd9f2b-20ff-4892-a717-e19abb4bdb7c",
   "metadata": {},
   "outputs": [],
   "source": [
    "columns = cursor.column_names\n",
    "results = cursor.fetchall();"
   ]
  },
  {
   "cell_type": "code",
   "execution_count": 25,
   "id": "e0750600-179a-41e9-8277-b6302a65d621",
   "metadata": {},
   "outputs": [
    {
     "name": "stdout",
     "output_type": "stream",
     "text": [
      "('CustomerFullName', 'Address', 'ContactNo', 'Email', 'BillAmount')\n",
      "('Ariana Moon', '631 West 32nd Avenue, Anchorage AK 99503', '(442)000-1332', 'ariana@gmail.com', Decimal('81.30'))\n"
     ]
    }
   ],
   "source": [
    "print(columns)\n",
    "for result in results:\n",
    "    print(result)"
   ]
  },
  {
   "cell_type": "code",
   "execution_count": 26,
   "id": "422d7b26-885d-4f03-829c-6f21a8c18455",
   "metadata": {},
   "outputs": [],
   "source": [
    "cursor.close()\n",
    "connection.close()"
   ]
  }
 ],
 "metadata": {
  "kernelspec": {
   "display_name": "Python 3 (ipykernel)",
   "language": "python",
   "name": "python3"
  },
  "language_info": {
   "codemirror_mode": {
    "name": "ipython",
    "version": 3
   },
   "file_extension": ".py",
   "mimetype": "text/x-python",
   "name": "python",
   "nbconvert_exporter": "python",
   "pygments_lexer": "ipython3",
   "version": "3.9.7"
  }
 },
 "nbformat": 4,
 "nbformat_minor": 5
}
